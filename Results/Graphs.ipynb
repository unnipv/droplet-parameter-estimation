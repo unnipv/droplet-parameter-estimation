{
 "cells": [
  {
   "cell_type": "code",
   "execution_count": 19,
   "metadata": {},
   "outputs": [],
   "source": [
    "import pandas as pd\n",
    "import plotly.express as px\n",
    "import seaborn as sns\n",
    "import numpy as np\n",
    "from matplotlib import pyplot as plt"
   ]
  },
  {
   "cell_type": "code",
   "execution_count": 29,
   "metadata": {},
   "outputs": [
    {
     "data": {
      "application/vnd.plotly.v1+json": {
       "config": {
        "plotlyServerURL": "https://plot.ly"
       },
       "data": [
        {
         "hovertemplate": "Label=%{x}<br>Predicted=%{y}<extra></extra>",
         "legendgroup": "",
         "marker": {
          "color": "#636efa",
          "symbol": "circle"
         },
         "mode": "markers",
         "name": "",
         "orientation": "v",
         "showlegend": false,
         "type": "scatter",
         "x": [
          50,
          150.0000044703484,
          100.00000223517418,
          300.00000596046453,
          50,
          150.0000044703484,
          150.0000044703484,
          50,
          100.00000223517418,
          50,
          100.00000223517418,
          100.00000223517418,
          300.00000596046453,
          150.0000044703484,
          150.0000044703484,
          100.00000223517418,
          150.0000044703484,
          50,
          150.0000044703484,
          100.00000223517418,
          150.0000044703484,
          300.00000596046453,
          50,
          150.0000044703484,
          50,
          100.00000223517418,
          50,
          50,
          300.00000596046453,
          300.00000596046453,
          300.00000596046453,
          50,
          300.00000596046453,
          100.00000223517418,
          150.0000044703484,
          300.00000596046453,
          100.00000223517418,
          150.0000044703484,
          50,
          150.0000044703484,
          300.00000596046453,
          150.0000044703484,
          50,
          50,
          300.00000596046453,
          50,
          50,
          150.0000044703484,
          50,
          150.0000044703484,
          50,
          50,
          50,
          50,
          300.00000596046453,
          100.00000223517418,
          50,
          50,
          50,
          50,
          50,
          50,
          400,
          50,
          50,
          150.0000044703484,
          150.0000044703484,
          300.00000596046453,
          50,
          50,
          50,
          300.00000596046453,
          50,
          100.00000223517418,
          100.00000223517418,
          100.00000223517418,
          300.00000596046453,
          50,
          400,
          50,
          150.0000044703484,
          300.00000596046453,
          50,
          50,
          150.0000044703484,
          50,
          150.0000044703484,
          100.00000223517418,
          100.00000223517418,
          150.0000044703484,
          300.00000596046453,
          150.0000044703484,
          100.00000223517418,
          100.00000223517418,
          50,
          50,
          50,
          100.00000223517418,
          100.00000223517418,
          150.0000044703484,
          150.0000044703484,
          50,
          300.00000596046453,
          100.00000223517418,
          50
         ],
         "xaxis": "x",
         "y": [
          51.72239236999303,
          149.88933354616162,
          99.92250129580498,
          298.35863411426544,
          51.64493282791227,
          148.77202659845352,
          149.51539933681488,
          51.69182063546032,
          100.32096356153488,
          51.69279950205237,
          100.07832199335098,
          94.18716579675673,
          296.5422123670578,
          149.3994295597076,
          150.68576782941818,
          86.70635633170605,
          150.0445336103439,
          51.68910764623433,
          150.03445744514462,
          99.43749457597731,
          150.3033012151718,
          297.9198515415192,
          51.683590724132955,
          150.00640898942947,
          51.68062690645456,
          99.56261739134787,
          51.68514295946807,
          51.64532088674604,
          296.7090427875519,
          296.9521224498749,
          297.54738807678217,
          51.685260469093926,
          296.9754248857498,
          100.56324526667595,
          148.73091876506803,
          298.12129139900213,
          100.10488405823708,
          148.77202659845352,
          51.66889370884746,
          149.6521160006523,
          298.67385327816015,
          149.95985627174375,
          51.65240063797682,
          51.66929138358682,
          299.0408301353454,
          51.692027784883976,
          51.65561023168265,
          149.51539933681488,
          51.68067319318652,
          147.7294564247131,
          51.704643364064395,
          51.67262663599104,
          51.6572728054598,
          51.692027784883976,
          298.0780243873596,
          98.80264922976494,
          51.67784253135324,
          51.645230432041,
          51.69083345681429,
          51.66797384154053,
          51.67676489800215,
          51.67049679439515,
          399.15099442005163,
          51.69800072908402,
          51.639937935397036,
          149.84962344169614,
          149.7392550110817,
          297.8286862373352,
          51.66139868088066,
          51.69182063546032,
          51.720532425679274,
          298.67385327816015,
          51.67660631705076,
          99.55492988228798,
          99.71076622605324,
          99.95580688118936,
          298.1252759695053,
          51.663947221823044,
          399.0761011838913,
          51.685260469093926,
          149.02327358722687,
          296.9690412282944,
          51.67849967256189,
          51.68067319318652,
          149.6521160006523,
          51.698896801099174,
          148.73091876506803,
          100.12202188372612,
          100.30762776732443,
          150.3574475646019,
          297.7439880371094,
          149.85844790935516,
          100.03450736403464,
          100.258107483387,
          51.64049679879099,
          51.645230432041,
          51.69182063546032,
          100.80835893750192,
          100.84516406059264,
          148.8128110766411,
          149.03321415185928,
          51.66268330067396,
          298.5526889562607,
          100.62773898243904,
          51.645230432041
         ],
         "yaxis": "y"
        }
       ],
       "layout": {
        "legend": {
         "tracegroupgap": 0
        },
        "template": {
         "data": {
          "bar": [
           {
            "error_x": {
             "color": "#2a3f5f"
            },
            "error_y": {
             "color": "#2a3f5f"
            },
            "marker": {
             "line": {
              "color": "#E5ECF6",
              "width": 0.5
             },
             "pattern": {
              "fillmode": "overlay",
              "size": 10,
              "solidity": 0.2
             }
            },
            "type": "bar"
           }
          ],
          "barpolar": [
           {
            "marker": {
             "line": {
              "color": "#E5ECF6",
              "width": 0.5
             },
             "pattern": {
              "fillmode": "overlay",
              "size": 10,
              "solidity": 0.2
             }
            },
            "type": "barpolar"
           }
          ],
          "carpet": [
           {
            "aaxis": {
             "endlinecolor": "#2a3f5f",
             "gridcolor": "white",
             "linecolor": "white",
             "minorgridcolor": "white",
             "startlinecolor": "#2a3f5f"
            },
            "baxis": {
             "endlinecolor": "#2a3f5f",
             "gridcolor": "white",
             "linecolor": "white",
             "minorgridcolor": "white",
             "startlinecolor": "#2a3f5f"
            },
            "type": "carpet"
           }
          ],
          "choropleth": [
           {
            "colorbar": {
             "outlinewidth": 0,
             "ticks": ""
            },
            "type": "choropleth"
           }
          ],
          "contour": [
           {
            "colorbar": {
             "outlinewidth": 0,
             "ticks": ""
            },
            "colorscale": [
             [
              0,
              "#0d0887"
             ],
             [
              0.1111111111111111,
              "#46039f"
             ],
             [
              0.2222222222222222,
              "#7201a8"
             ],
             [
              0.3333333333333333,
              "#9c179e"
             ],
             [
              0.4444444444444444,
              "#bd3786"
             ],
             [
              0.5555555555555556,
              "#d8576b"
             ],
             [
              0.6666666666666666,
              "#ed7953"
             ],
             [
              0.7777777777777778,
              "#fb9f3a"
             ],
             [
              0.8888888888888888,
              "#fdca26"
             ],
             [
              1,
              "#f0f921"
             ]
            ],
            "type": "contour"
           }
          ],
          "contourcarpet": [
           {
            "colorbar": {
             "outlinewidth": 0,
             "ticks": ""
            },
            "type": "contourcarpet"
           }
          ],
          "heatmap": [
           {
            "colorbar": {
             "outlinewidth": 0,
             "ticks": ""
            },
            "colorscale": [
             [
              0,
              "#0d0887"
             ],
             [
              0.1111111111111111,
              "#46039f"
             ],
             [
              0.2222222222222222,
              "#7201a8"
             ],
             [
              0.3333333333333333,
              "#9c179e"
             ],
             [
              0.4444444444444444,
              "#bd3786"
             ],
             [
              0.5555555555555556,
              "#d8576b"
             ],
             [
              0.6666666666666666,
              "#ed7953"
             ],
             [
              0.7777777777777778,
              "#fb9f3a"
             ],
             [
              0.8888888888888888,
              "#fdca26"
             ],
             [
              1,
              "#f0f921"
             ]
            ],
            "type": "heatmap"
           }
          ],
          "heatmapgl": [
           {
            "colorbar": {
             "outlinewidth": 0,
             "ticks": ""
            },
            "colorscale": [
             [
              0,
              "#0d0887"
             ],
             [
              0.1111111111111111,
              "#46039f"
             ],
             [
              0.2222222222222222,
              "#7201a8"
             ],
             [
              0.3333333333333333,
              "#9c179e"
             ],
             [
              0.4444444444444444,
              "#bd3786"
             ],
             [
              0.5555555555555556,
              "#d8576b"
             ],
             [
              0.6666666666666666,
              "#ed7953"
             ],
             [
              0.7777777777777778,
              "#fb9f3a"
             ],
             [
              0.8888888888888888,
              "#fdca26"
             ],
             [
              1,
              "#f0f921"
             ]
            ],
            "type": "heatmapgl"
           }
          ],
          "histogram": [
           {
            "marker": {
             "pattern": {
              "fillmode": "overlay",
              "size": 10,
              "solidity": 0.2
             }
            },
            "type": "histogram"
           }
          ],
          "histogram2d": [
           {
            "colorbar": {
             "outlinewidth": 0,
             "ticks": ""
            },
            "colorscale": [
             [
              0,
              "#0d0887"
             ],
             [
              0.1111111111111111,
              "#46039f"
             ],
             [
              0.2222222222222222,
              "#7201a8"
             ],
             [
              0.3333333333333333,
              "#9c179e"
             ],
             [
              0.4444444444444444,
              "#bd3786"
             ],
             [
              0.5555555555555556,
              "#d8576b"
             ],
             [
              0.6666666666666666,
              "#ed7953"
             ],
             [
              0.7777777777777778,
              "#fb9f3a"
             ],
             [
              0.8888888888888888,
              "#fdca26"
             ],
             [
              1,
              "#f0f921"
             ]
            ],
            "type": "histogram2d"
           }
          ],
          "histogram2dcontour": [
           {
            "colorbar": {
             "outlinewidth": 0,
             "ticks": ""
            },
            "colorscale": [
             [
              0,
              "#0d0887"
             ],
             [
              0.1111111111111111,
              "#46039f"
             ],
             [
              0.2222222222222222,
              "#7201a8"
             ],
             [
              0.3333333333333333,
              "#9c179e"
             ],
             [
              0.4444444444444444,
              "#bd3786"
             ],
             [
              0.5555555555555556,
              "#d8576b"
             ],
             [
              0.6666666666666666,
              "#ed7953"
             ],
             [
              0.7777777777777778,
              "#fb9f3a"
             ],
             [
              0.8888888888888888,
              "#fdca26"
             ],
             [
              1,
              "#f0f921"
             ]
            ],
            "type": "histogram2dcontour"
           }
          ],
          "mesh3d": [
           {
            "colorbar": {
             "outlinewidth": 0,
             "ticks": ""
            },
            "type": "mesh3d"
           }
          ],
          "parcoords": [
           {
            "line": {
             "colorbar": {
              "outlinewidth": 0,
              "ticks": ""
             }
            },
            "type": "parcoords"
           }
          ],
          "pie": [
           {
            "automargin": true,
            "type": "pie"
           }
          ],
          "scatter": [
           {
            "fillpattern": {
             "fillmode": "overlay",
             "size": 10,
             "solidity": 0.2
            },
            "type": "scatter"
           }
          ],
          "scatter3d": [
           {
            "line": {
             "colorbar": {
              "outlinewidth": 0,
              "ticks": ""
             }
            },
            "marker": {
             "colorbar": {
              "outlinewidth": 0,
              "ticks": ""
             }
            },
            "type": "scatter3d"
           }
          ],
          "scattercarpet": [
           {
            "marker": {
             "colorbar": {
              "outlinewidth": 0,
              "ticks": ""
             }
            },
            "type": "scattercarpet"
           }
          ],
          "scattergeo": [
           {
            "marker": {
             "colorbar": {
              "outlinewidth": 0,
              "ticks": ""
             }
            },
            "type": "scattergeo"
           }
          ],
          "scattergl": [
           {
            "marker": {
             "colorbar": {
              "outlinewidth": 0,
              "ticks": ""
             }
            },
            "type": "scattergl"
           }
          ],
          "scattermapbox": [
           {
            "marker": {
             "colorbar": {
              "outlinewidth": 0,
              "ticks": ""
             }
            },
            "type": "scattermapbox"
           }
          ],
          "scatterpolar": [
           {
            "marker": {
             "colorbar": {
              "outlinewidth": 0,
              "ticks": ""
             }
            },
            "type": "scatterpolar"
           }
          ],
          "scatterpolargl": [
           {
            "marker": {
             "colorbar": {
              "outlinewidth": 0,
              "ticks": ""
             }
            },
            "type": "scatterpolargl"
           }
          ],
          "scatterternary": [
           {
            "marker": {
             "colorbar": {
              "outlinewidth": 0,
              "ticks": ""
             }
            },
            "type": "scatterternary"
           }
          ],
          "surface": [
           {
            "colorbar": {
             "outlinewidth": 0,
             "ticks": ""
            },
            "colorscale": [
             [
              0,
              "#0d0887"
             ],
             [
              0.1111111111111111,
              "#46039f"
             ],
             [
              0.2222222222222222,
              "#7201a8"
             ],
             [
              0.3333333333333333,
              "#9c179e"
             ],
             [
              0.4444444444444444,
              "#bd3786"
             ],
             [
              0.5555555555555556,
              "#d8576b"
             ],
             [
              0.6666666666666666,
              "#ed7953"
             ],
             [
              0.7777777777777778,
              "#fb9f3a"
             ],
             [
              0.8888888888888888,
              "#fdca26"
             ],
             [
              1,
              "#f0f921"
             ]
            ],
            "type": "surface"
           }
          ],
          "table": [
           {
            "cells": {
             "fill": {
              "color": "#EBF0F8"
             },
             "line": {
              "color": "white"
             }
            },
            "header": {
             "fill": {
              "color": "#C8D4E3"
             },
             "line": {
              "color": "white"
             }
            },
            "type": "table"
           }
          ]
         },
         "layout": {
          "annotationdefaults": {
           "arrowcolor": "#2a3f5f",
           "arrowhead": 0,
           "arrowwidth": 1
          },
          "autotypenumbers": "strict",
          "coloraxis": {
           "colorbar": {
            "outlinewidth": 0,
            "ticks": ""
           }
          },
          "colorscale": {
           "diverging": [
            [
             0,
             "#8e0152"
            ],
            [
             0.1,
             "#c51b7d"
            ],
            [
             0.2,
             "#de77ae"
            ],
            [
             0.3,
             "#f1b6da"
            ],
            [
             0.4,
             "#fde0ef"
            ],
            [
             0.5,
             "#f7f7f7"
            ],
            [
             0.6,
             "#e6f5d0"
            ],
            [
             0.7,
             "#b8e186"
            ],
            [
             0.8,
             "#7fbc41"
            ],
            [
             0.9,
             "#4d9221"
            ],
            [
             1,
             "#276419"
            ]
           ],
           "sequential": [
            [
             0,
             "#0d0887"
            ],
            [
             0.1111111111111111,
             "#46039f"
            ],
            [
             0.2222222222222222,
             "#7201a8"
            ],
            [
             0.3333333333333333,
             "#9c179e"
            ],
            [
             0.4444444444444444,
             "#bd3786"
            ],
            [
             0.5555555555555556,
             "#d8576b"
            ],
            [
             0.6666666666666666,
             "#ed7953"
            ],
            [
             0.7777777777777778,
             "#fb9f3a"
            ],
            [
             0.8888888888888888,
             "#fdca26"
            ],
            [
             1,
             "#f0f921"
            ]
           ],
           "sequentialminus": [
            [
             0,
             "#0d0887"
            ],
            [
             0.1111111111111111,
             "#46039f"
            ],
            [
             0.2222222222222222,
             "#7201a8"
            ],
            [
             0.3333333333333333,
             "#9c179e"
            ],
            [
             0.4444444444444444,
             "#bd3786"
            ],
            [
             0.5555555555555556,
             "#d8576b"
            ],
            [
             0.6666666666666666,
             "#ed7953"
            ],
            [
             0.7777777777777778,
             "#fb9f3a"
            ],
            [
             0.8888888888888888,
             "#fdca26"
            ],
            [
             1,
             "#f0f921"
            ]
           ]
          },
          "colorway": [
           "#636efa",
           "#EF553B",
           "#00cc96",
           "#ab63fa",
           "#FFA15A",
           "#19d3f3",
           "#FF6692",
           "#B6E880",
           "#FF97FF",
           "#FECB52"
          ],
          "font": {
           "color": "#2a3f5f"
          },
          "geo": {
           "bgcolor": "white",
           "lakecolor": "white",
           "landcolor": "#E5ECF6",
           "showlakes": true,
           "showland": true,
           "subunitcolor": "white"
          },
          "hoverlabel": {
           "align": "left"
          },
          "hovermode": "closest",
          "mapbox": {
           "style": "light"
          },
          "paper_bgcolor": "white",
          "plot_bgcolor": "#E5ECF6",
          "polar": {
           "angularaxis": {
            "gridcolor": "white",
            "linecolor": "white",
            "ticks": ""
           },
           "bgcolor": "#E5ECF6",
           "radialaxis": {
            "gridcolor": "white",
            "linecolor": "white",
            "ticks": ""
           }
          },
          "scene": {
           "xaxis": {
            "backgroundcolor": "#E5ECF6",
            "gridcolor": "white",
            "gridwidth": 2,
            "linecolor": "white",
            "showbackground": true,
            "ticks": "",
            "zerolinecolor": "white"
           },
           "yaxis": {
            "backgroundcolor": "#E5ECF6",
            "gridcolor": "white",
            "gridwidth": 2,
            "linecolor": "white",
            "showbackground": true,
            "ticks": "",
            "zerolinecolor": "white"
           },
           "zaxis": {
            "backgroundcolor": "#E5ECF6",
            "gridcolor": "white",
            "gridwidth": 2,
            "linecolor": "white",
            "showbackground": true,
            "ticks": "",
            "zerolinecolor": "white"
           }
          },
          "shapedefaults": {
           "line": {
            "color": "#2a3f5f"
           }
          },
          "ternary": {
           "aaxis": {
            "gridcolor": "white",
            "linecolor": "white",
            "ticks": ""
           },
           "baxis": {
            "gridcolor": "white",
            "linecolor": "white",
            "ticks": ""
           },
           "bgcolor": "#E5ECF6",
           "caxis": {
            "gridcolor": "white",
            "linecolor": "white",
            "ticks": ""
           }
          },
          "title": {
           "x": 0.05
          },
          "xaxis": {
           "automargin": true,
           "gridcolor": "white",
           "linecolor": "white",
           "ticks": "",
           "title": {
            "standoff": 15
           },
           "zerolinecolor": "white",
           "zerolinewidth": 2
          },
          "yaxis": {
           "automargin": true,
           "gridcolor": "white",
           "linecolor": "white",
           "ticks": "",
           "title": {
            "standoff": 15
           },
           "zerolinecolor": "white",
           "zerolinewidth": 2
          }
         }
        },
        "title": {
         "text": "Diameters: Predicted vs Labels"
        },
        "xaxis": {
         "anchor": "y",
         "domain": [
          0,
          1
         ],
         "title": {
          "text": "Label"
         }
        },
        "yaxis": {
         "anchor": "x",
         "domain": [
          0,
          1
         ],
         "title": {
          "text": "Predicted"
         }
        }
       }
      },
      "text/html": [
       "<div>                            <div id=\"55f2f78f-c9b2-41ed-b9dc-655a16c0125a\" class=\"plotly-graph-div\" style=\"height:525px; width:100%;\"></div>            <script type=\"text/javascript\">                require([\"plotly\"], function(Plotly) {                    window.PLOTLYENV=window.PLOTLYENV || {};                                    if (document.getElementById(\"55f2f78f-c9b2-41ed-b9dc-655a16c0125a\")) {                    Plotly.newPlot(                        \"55f2f78f-c9b2-41ed-b9dc-655a16c0125a\",                        [{\"hovertemplate\":\"Label=%{x}<br>Predicted=%{y}<extra></extra>\",\"legendgroup\":\"\",\"marker\":{\"color\":\"#636efa\",\"symbol\":\"circle\"},\"mode\":\"markers\",\"name\":\"\",\"orientation\":\"v\",\"showlegend\":false,\"x\":[50.0,150.0000044703484,100.00000223517418,300.00000596046453,50.0,150.0000044703484,150.0000044703484,50.0,100.00000223517418,50.0,100.00000223517418,100.00000223517418,300.00000596046453,150.0000044703484,150.0000044703484,100.00000223517418,150.0000044703484,50.0,150.0000044703484,100.00000223517418,150.0000044703484,300.00000596046453,50.0,150.0000044703484,50.0,100.00000223517418,50.0,50.0,300.00000596046453,300.00000596046453,300.00000596046453,50.0,300.00000596046453,100.00000223517418,150.0000044703484,300.00000596046453,100.00000223517418,150.0000044703484,50.0,150.0000044703484,300.00000596046453,150.0000044703484,50.0,50.0,300.00000596046453,50.0,50.0,150.0000044703484,50.0,150.0000044703484,50.0,50.0,50.0,50.0,300.00000596046453,100.00000223517418,50.0,50.0,50.0,50.0,50.0,50.0,400.0,50.0,50.0,150.0000044703484,150.0000044703484,300.00000596046453,50.0,50.0,50.0,300.00000596046453,50.0,100.00000223517418,100.00000223517418,100.00000223517418,300.00000596046453,50.0,400.0,50.0,150.0000044703484,300.00000596046453,50.0,50.0,150.0000044703484,50.0,150.0000044703484,100.00000223517418,100.00000223517418,150.0000044703484,300.00000596046453,150.0000044703484,100.00000223517418,100.00000223517418,50.0,50.0,50.0,100.00000223517418,100.00000223517418,150.0000044703484,150.0000044703484,50.0,300.00000596046453,100.00000223517418,50.0],\"xaxis\":\"x\",\"y\":[51.72239236999303,149.88933354616162,99.92250129580498,298.35863411426544,51.64493282791227,148.77202659845352,149.51539933681488,51.69182063546032,100.32096356153488,51.69279950205237,100.07832199335098,94.18716579675673,296.5422123670578,149.3994295597076,150.68576782941818,86.70635633170605,150.0445336103439,51.68910764623433,150.03445744514462,99.43749457597731,150.3033012151718,297.9198515415192,51.683590724132955,150.00640898942947,51.68062690645456,99.56261739134787,51.68514295946807,51.64532088674604,296.7090427875519,296.9521224498749,297.54738807678217,51.685260469093926,296.9754248857498,100.56324526667595,148.73091876506803,298.12129139900213,100.10488405823708,148.77202659845352,51.66889370884746,149.6521160006523,298.67385327816015,149.95985627174375,51.65240063797682,51.66929138358682,299.0408301353454,51.692027784883976,51.65561023168265,149.51539933681488,51.68067319318652,147.7294564247131,51.704643364064395,51.67262663599104,51.6572728054598,51.692027784883976,298.0780243873596,98.80264922976494,51.67784253135324,51.645230432041,51.69083345681429,51.66797384154053,51.67676489800215,51.67049679439515,399.15099442005163,51.69800072908402,51.639937935397036,149.84962344169614,149.7392550110817,297.8286862373352,51.66139868088066,51.69182063546032,51.720532425679274,298.67385327816015,51.67660631705076,99.55492988228798,99.71076622605324,99.95580688118936,298.1252759695053,51.663947221823044,399.0761011838913,51.685260469093926,149.02327358722687,296.9690412282944,51.67849967256189,51.68067319318652,149.6521160006523,51.698896801099174,148.73091876506803,100.12202188372612,100.30762776732443,150.3574475646019,297.7439880371094,149.85844790935516,100.03450736403464,100.258107483387,51.64049679879099,51.645230432041,51.69182063546032,100.80835893750192,100.84516406059264,148.8128110766411,149.03321415185928,51.66268330067396,298.5526889562607,100.62773898243904,51.645230432041],\"yaxis\":\"y\",\"type\":\"scatter\"}],                        {\"template\":{\"data\":{\"histogram2dcontour\":[{\"type\":\"histogram2dcontour\",\"colorbar\":{\"outlinewidth\":0,\"ticks\":\"\"},\"colorscale\":[[0.0,\"#0d0887\"],[0.1111111111111111,\"#46039f\"],[0.2222222222222222,\"#7201a8\"],[0.3333333333333333,\"#9c179e\"],[0.4444444444444444,\"#bd3786\"],[0.5555555555555556,\"#d8576b\"],[0.6666666666666666,\"#ed7953\"],[0.7777777777777778,\"#fb9f3a\"],[0.8888888888888888,\"#fdca26\"],[1.0,\"#f0f921\"]]}],\"choropleth\":[{\"type\":\"choropleth\",\"colorbar\":{\"outlinewidth\":0,\"ticks\":\"\"}}],\"histogram2d\":[{\"type\":\"histogram2d\",\"colorbar\":{\"outlinewidth\":0,\"ticks\":\"\"},\"colorscale\":[[0.0,\"#0d0887\"],[0.1111111111111111,\"#46039f\"],[0.2222222222222222,\"#7201a8\"],[0.3333333333333333,\"#9c179e\"],[0.4444444444444444,\"#bd3786\"],[0.5555555555555556,\"#d8576b\"],[0.6666666666666666,\"#ed7953\"],[0.7777777777777778,\"#fb9f3a\"],[0.8888888888888888,\"#fdca26\"],[1.0,\"#f0f921\"]]}],\"heatmap\":[{\"type\":\"heatmap\",\"colorbar\":{\"outlinewidth\":0,\"ticks\":\"\"},\"colorscale\":[[0.0,\"#0d0887\"],[0.1111111111111111,\"#46039f\"],[0.2222222222222222,\"#7201a8\"],[0.3333333333333333,\"#9c179e\"],[0.4444444444444444,\"#bd3786\"],[0.5555555555555556,\"#d8576b\"],[0.6666666666666666,\"#ed7953\"],[0.7777777777777778,\"#fb9f3a\"],[0.8888888888888888,\"#fdca26\"],[1.0,\"#f0f921\"]]}],\"heatmapgl\":[{\"type\":\"heatmapgl\",\"colorbar\":{\"outlinewidth\":0,\"ticks\":\"\"},\"colorscale\":[[0.0,\"#0d0887\"],[0.1111111111111111,\"#46039f\"],[0.2222222222222222,\"#7201a8\"],[0.3333333333333333,\"#9c179e\"],[0.4444444444444444,\"#bd3786\"],[0.5555555555555556,\"#d8576b\"],[0.6666666666666666,\"#ed7953\"],[0.7777777777777778,\"#fb9f3a\"],[0.8888888888888888,\"#fdca26\"],[1.0,\"#f0f921\"]]}],\"contourcarpet\":[{\"type\":\"contourcarpet\",\"colorbar\":{\"outlinewidth\":0,\"ticks\":\"\"}}],\"contour\":[{\"type\":\"contour\",\"colorbar\":{\"outlinewidth\":0,\"ticks\":\"\"},\"colorscale\":[[0.0,\"#0d0887\"],[0.1111111111111111,\"#46039f\"],[0.2222222222222222,\"#7201a8\"],[0.3333333333333333,\"#9c179e\"],[0.4444444444444444,\"#bd3786\"],[0.5555555555555556,\"#d8576b\"],[0.6666666666666666,\"#ed7953\"],[0.7777777777777778,\"#fb9f3a\"],[0.8888888888888888,\"#fdca26\"],[1.0,\"#f0f921\"]]}],\"surface\":[{\"type\":\"surface\",\"colorbar\":{\"outlinewidth\":0,\"ticks\":\"\"},\"colorscale\":[[0.0,\"#0d0887\"],[0.1111111111111111,\"#46039f\"],[0.2222222222222222,\"#7201a8\"],[0.3333333333333333,\"#9c179e\"],[0.4444444444444444,\"#bd3786\"],[0.5555555555555556,\"#d8576b\"],[0.6666666666666666,\"#ed7953\"],[0.7777777777777778,\"#fb9f3a\"],[0.8888888888888888,\"#fdca26\"],[1.0,\"#f0f921\"]]}],\"mesh3d\":[{\"type\":\"mesh3d\",\"colorbar\":{\"outlinewidth\":0,\"ticks\":\"\"}}],\"scatter\":[{\"fillpattern\":{\"fillmode\":\"overlay\",\"size\":10,\"solidity\":0.2},\"type\":\"scatter\"}],\"parcoords\":[{\"type\":\"parcoords\",\"line\":{\"colorbar\":{\"outlinewidth\":0,\"ticks\":\"\"}}}],\"scatterpolargl\":[{\"type\":\"scatterpolargl\",\"marker\":{\"colorbar\":{\"outlinewidth\":0,\"ticks\":\"\"}}}],\"bar\":[{\"error_x\":{\"color\":\"#2a3f5f\"},\"error_y\":{\"color\":\"#2a3f5f\"},\"marker\":{\"line\":{\"color\":\"#E5ECF6\",\"width\":0.5},\"pattern\":{\"fillmode\":\"overlay\",\"size\":10,\"solidity\":0.2}},\"type\":\"bar\"}],\"scattergeo\":[{\"type\":\"scattergeo\",\"marker\":{\"colorbar\":{\"outlinewidth\":0,\"ticks\":\"\"}}}],\"scatterpolar\":[{\"type\":\"scatterpolar\",\"marker\":{\"colorbar\":{\"outlinewidth\":0,\"ticks\":\"\"}}}],\"histogram\":[{\"marker\":{\"pattern\":{\"fillmode\":\"overlay\",\"size\":10,\"solidity\":0.2}},\"type\":\"histogram\"}],\"scattergl\":[{\"type\":\"scattergl\",\"marker\":{\"colorbar\":{\"outlinewidth\":0,\"ticks\":\"\"}}}],\"scatter3d\":[{\"type\":\"scatter3d\",\"line\":{\"colorbar\":{\"outlinewidth\":0,\"ticks\":\"\"}},\"marker\":{\"colorbar\":{\"outlinewidth\":0,\"ticks\":\"\"}}}],\"scattermapbox\":[{\"type\":\"scattermapbox\",\"marker\":{\"colorbar\":{\"outlinewidth\":0,\"ticks\":\"\"}}}],\"scatterternary\":[{\"type\":\"scatterternary\",\"marker\":{\"colorbar\":{\"outlinewidth\":0,\"ticks\":\"\"}}}],\"scattercarpet\":[{\"type\":\"scattercarpet\",\"marker\":{\"colorbar\":{\"outlinewidth\":0,\"ticks\":\"\"}}}],\"carpet\":[{\"aaxis\":{\"endlinecolor\":\"#2a3f5f\",\"gridcolor\":\"white\",\"linecolor\":\"white\",\"minorgridcolor\":\"white\",\"startlinecolor\":\"#2a3f5f\"},\"baxis\":{\"endlinecolor\":\"#2a3f5f\",\"gridcolor\":\"white\",\"linecolor\":\"white\",\"minorgridcolor\":\"white\",\"startlinecolor\":\"#2a3f5f\"},\"type\":\"carpet\"}],\"table\":[{\"cells\":{\"fill\":{\"color\":\"#EBF0F8\"},\"line\":{\"color\":\"white\"}},\"header\":{\"fill\":{\"color\":\"#C8D4E3\"},\"line\":{\"color\":\"white\"}},\"type\":\"table\"}],\"barpolar\":[{\"marker\":{\"line\":{\"color\":\"#E5ECF6\",\"width\":0.5},\"pattern\":{\"fillmode\":\"overlay\",\"size\":10,\"solidity\":0.2}},\"type\":\"barpolar\"}],\"pie\":[{\"automargin\":true,\"type\":\"pie\"}]},\"layout\":{\"autotypenumbers\":\"strict\",\"colorway\":[\"#636efa\",\"#EF553B\",\"#00cc96\",\"#ab63fa\",\"#FFA15A\",\"#19d3f3\",\"#FF6692\",\"#B6E880\",\"#FF97FF\",\"#FECB52\"],\"font\":{\"color\":\"#2a3f5f\"},\"hovermode\":\"closest\",\"hoverlabel\":{\"align\":\"left\"},\"paper_bgcolor\":\"white\",\"plot_bgcolor\":\"#E5ECF6\",\"polar\":{\"bgcolor\":\"#E5ECF6\",\"angularaxis\":{\"gridcolor\":\"white\",\"linecolor\":\"white\",\"ticks\":\"\"},\"radialaxis\":{\"gridcolor\":\"white\",\"linecolor\":\"white\",\"ticks\":\"\"}},\"ternary\":{\"bgcolor\":\"#E5ECF6\",\"aaxis\":{\"gridcolor\":\"white\",\"linecolor\":\"white\",\"ticks\":\"\"},\"baxis\":{\"gridcolor\":\"white\",\"linecolor\":\"white\",\"ticks\":\"\"},\"caxis\":{\"gridcolor\":\"white\",\"linecolor\":\"white\",\"ticks\":\"\"}},\"coloraxis\":{\"colorbar\":{\"outlinewidth\":0,\"ticks\":\"\"}},\"colorscale\":{\"sequential\":[[0.0,\"#0d0887\"],[0.1111111111111111,\"#46039f\"],[0.2222222222222222,\"#7201a8\"],[0.3333333333333333,\"#9c179e\"],[0.4444444444444444,\"#bd3786\"],[0.5555555555555556,\"#d8576b\"],[0.6666666666666666,\"#ed7953\"],[0.7777777777777778,\"#fb9f3a\"],[0.8888888888888888,\"#fdca26\"],[1.0,\"#f0f921\"]],\"sequentialminus\":[[0.0,\"#0d0887\"],[0.1111111111111111,\"#46039f\"],[0.2222222222222222,\"#7201a8\"],[0.3333333333333333,\"#9c179e\"],[0.4444444444444444,\"#bd3786\"],[0.5555555555555556,\"#d8576b\"],[0.6666666666666666,\"#ed7953\"],[0.7777777777777778,\"#fb9f3a\"],[0.8888888888888888,\"#fdca26\"],[1.0,\"#f0f921\"]],\"diverging\":[[0,\"#8e0152\"],[0.1,\"#c51b7d\"],[0.2,\"#de77ae\"],[0.3,\"#f1b6da\"],[0.4,\"#fde0ef\"],[0.5,\"#f7f7f7\"],[0.6,\"#e6f5d0\"],[0.7,\"#b8e186\"],[0.8,\"#7fbc41\"],[0.9,\"#4d9221\"],[1,\"#276419\"]]},\"xaxis\":{\"gridcolor\":\"white\",\"linecolor\":\"white\",\"ticks\":\"\",\"title\":{\"standoff\":15},\"zerolinecolor\":\"white\",\"automargin\":true,\"zerolinewidth\":2},\"yaxis\":{\"gridcolor\":\"white\",\"linecolor\":\"white\",\"ticks\":\"\",\"title\":{\"standoff\":15},\"zerolinecolor\":\"white\",\"automargin\":true,\"zerolinewidth\":2},\"scene\":{\"xaxis\":{\"backgroundcolor\":\"#E5ECF6\",\"gridcolor\":\"white\",\"linecolor\":\"white\",\"showbackground\":true,\"ticks\":\"\",\"zerolinecolor\":\"white\",\"gridwidth\":2},\"yaxis\":{\"backgroundcolor\":\"#E5ECF6\",\"gridcolor\":\"white\",\"linecolor\":\"white\",\"showbackground\":true,\"ticks\":\"\",\"zerolinecolor\":\"white\",\"gridwidth\":2},\"zaxis\":{\"backgroundcolor\":\"#E5ECF6\",\"gridcolor\":\"white\",\"linecolor\":\"white\",\"showbackground\":true,\"ticks\":\"\",\"zerolinecolor\":\"white\",\"gridwidth\":2}},\"shapedefaults\":{\"line\":{\"color\":\"#2a3f5f\"}},\"annotationdefaults\":{\"arrowcolor\":\"#2a3f5f\",\"arrowhead\":0,\"arrowwidth\":1},\"geo\":{\"bgcolor\":\"white\",\"landcolor\":\"#E5ECF6\",\"subunitcolor\":\"white\",\"showland\":true,\"showlakes\":true,\"lakecolor\":\"white\"},\"title\":{\"x\":0.05},\"mapbox\":{\"style\":\"light\"}}},\"xaxis\":{\"anchor\":\"y\",\"domain\":[0.0,1.0],\"title\":{\"text\":\"Label\"}},\"yaxis\":{\"anchor\":\"x\",\"domain\":[0.0,1.0],\"title\":{\"text\":\"Predicted\"}},\"legend\":{\"tracegroupgap\":0},\"title\":{\"text\":\"Diameters: Predicted vs Labels\"}},                        {\"responsive\": true}                    ).then(function(){\n",
       "                            \n",
       "var gd = document.getElementById('55f2f78f-c9b2-41ed-b9dc-655a16c0125a');\n",
       "var x = new MutationObserver(function (mutations, observer) {{\n",
       "        var display = window.getComputedStyle(gd).display;\n",
       "        if (!display || display === 'none') {{\n",
       "            console.log([gd, 'removed!']);\n",
       "            Plotly.purge(gd);\n",
       "            observer.disconnect();\n",
       "        }}\n",
       "}});\n",
       "\n",
       "// Listen for the removal of the full notebook cells\n",
       "var notebookContainer = gd.closest('#notebook-container');\n",
       "if (notebookContainer) {{\n",
       "    x.observe(notebookContainer, {childList: true});\n",
       "}}\n",
       "\n",
       "// Listen for the clearing of the current output cell\n",
       "var outputEl = gd.closest('.output');\n",
       "if (outputEl) {{\n",
       "    x.observe(outputEl, {childList: true});\n",
       "}}\n",
       "\n",
       "                        })                };                });            </script>        </div>"
      ]
     },
     "metadata": {},
     "output_type": "display_data"
    }
   ],
   "source": [
    "df = pd.read_csv(r\"E:\\Academics\\DDP\\Code\\CNN\\droplet-parameter-estimation\\infocus\\no_200\\model\\train_no_200_1\\dia.csv\")\n",
    "\n",
    "fig = px.scatter(df, x = 'Label', y = 'Predicted', title='Diameters: Predicted vs Labels')\n",
    "fig.show()"
   ]
  },
  {
   "cell_type": "code",
   "execution_count": 27,
   "metadata": {},
   "outputs": [
    {
     "data": {
      "application/vnd.plotly.v1+json": {
       "config": {
        "plotlyServerURL": "https://plot.ly"
       },
       "data": [
        {
         "hovertemplate": "Label=%{x}<br>Predicted=%{y}<extra></extra>",
         "legendgroup": "",
         "marker": {
          "color": "#636efa",
          "symbol": "circle"
         },
         "mode": "markers",
         "name": "",
         "orientation": "v",
         "showlegend": false,
         "type": "scatter",
         "x": [
          100.00000223517418,
          100.00000223517418,
          100.00000223517418,
          100.00000223517418,
          100.00000223517418,
          100.00000223517418,
          100.00000223517418,
          100.00000223517418,
          100.00000223517418,
          100.00000223517418,
          100.00000223517418,
          100.00000223517418,
          100.00000223517418,
          100.00000223517418,
          100.00000223517418,
          100.00000223517418,
          100.00000223517418,
          100.00000223517418,
          100.00000223517418,
          100.00000223517418,
          100.00000223517418,
          100.00000223517418,
          100.00000223517418,
          100.00000223517418,
          100.00000223517418,
          100.00000223517418,
          100.00000223517418,
          100.00000223517418,
          100.00000223517418,
          100.00000223517418,
          100.00000223517418,
          100.00000223517418,
          100.00000223517418,
          100.00000223517418,
          100.00000223517418,
          100.00000223517418,
          100.00000223517418,
          100.00000223517418,
          100.00000223517418,
          100.00000223517418,
          100.00000223517418,
          100.00000223517418,
          100.00000223517418,
          100.00000223517418,
          100.00000223517418,
          100.00000223517418,
          100.00000223517418,
          100.00000223517418,
          100.00000223517418,
          100.00000223517418,
          100.00000223517418,
          100.00000223517418,
          100.00000223517418,
          100.00000223517418,
          100.00000223517418,
          100.00000223517418,
          100.00000223517418,
          100.00000223517418,
          100.00000223517418,
          100.00000223517418,
          100.00000223517418,
          100.00000223517418,
          100.00000223517418,
          100.00000223517418,
          100.00000223517418,
          100.00000223517418,
          100.00000223517418,
          100.00000223517418,
          100.00000223517418,
          100.00000223517418,
          100.00000223517418,
          100.00000223517418,
          100.00000223517418,
          100.00000223517418,
          100.00000223517418,
          100.00000223517418,
          100.00000223517418,
          100.00000223517418,
          100.00000223517418,
          100.00000223517418,
          100.00000223517418,
          100.00000223517418,
          100.00000223517418,
          100.00000223517418,
          100.00000223517418,
          100.00000223517418,
          100.00000223517418,
          100.00000223517418,
          100.00000223517418,
          100.00000223517418,
          100.00000223517418,
          100.00000223517418,
          100.00000223517418,
          100.00000223517418,
          100.00000223517418,
          100.00000223517418,
          100.00000223517418,
          100.00000223517418,
          100.00000223517418,
          100.00000223517418,
          100.00000223517418,
          100.00000223517418,
          100.00000223517418,
          100.00000223517418,
          100.00000223517418,
          100.00000223517418,
          100.00000223517418,
          100.00000223517418,
          100.00000223517418,
          100.00000223517418,
          100.00000223517418,
          100.00000223517418,
          100.00000223517418,
          100.00000223517418,
          100.00000223517418,
          100.00000223517418,
          100.00000223517418,
          100.00000223517418,
          100.00000223517418,
          100.00000223517418,
          100.00000223517418,
          100.00000223517418,
          100.00000223517418,
          100.00000223517418,
          100.00000223517418,
          100.00000223517418,
          100.00000223517418,
          100.00000223517418,
          100.00000223517418,
          100.00000223517418,
          100.00000223517418,
          100.00000223517418,
          100.00000223517418,
          100.00000223517418,
          100.00000223517418,
          100.00000223517418,
          100.00000223517418,
          100.00000223517418,
          100.00000223517418,
          100.00000223517418,
          100.00000223517418,
          100.00000223517418,
          100.00000223517418,
          100.00000223517418,
          100.00000223517418,
          100.00000223517418,
          100.00000223517418,
          100.00000223517418,
          100.00000223517418,
          100.00000223517418,
          100.00000223517418,
          100.00000223517418,
          100.00000223517418,
          100.00000223517418,
          100.00000223517418,
          100.00000223517418,
          100.00000223517418,
          100.00000223517418,
          100.00000223517418,
          100.00000223517418,
          100.00000223517418,
          100.00000223517418,
          100.00000223517418,
          100.00000223517418,
          100.00000223517418,
          100.00000223517418,
          100.00000223517418,
          100.00000223517418,
          100.00000223517418,
          100.00000223517418,
          100.00000223517418,
          100.00000223517418,
          100.00000223517418,
          100.00000223517418,
          100.00000223517418,
          100.00000223517418,
          100.00000223517418,
          100.00000223517418,
          100.00000223517418,
          100.00000223517418,
          100.00000223517418,
          100.00000223517418,
          100.00000223517418,
          100.00000223517418,
          100.00000223517418,
          100.00000223517418,
          100.00000223517418,
          100.00000223517418,
          100.00000223517418,
          100.00000223517418,
          100.00000223517418,
          100.00000223517418,
          100.00000223517418,
          100.00000223517418,
          100.00000223517418,
          100.00000223517418,
          100.00000223517418,
          100.00000223517418,
          100.00000223517418,
          100.00000223517418,
          100.00000223517418,
          100.00000223517418,
          100.00000223517418,
          100.00000223517418,
          100.00000223517418,
          100.00000223517418,
          100.00000223517418,
          100.00000223517418,
          100.00000223517418,
          100.00000223517418,
          100.00000223517418,
          100.00000223517418,
          100.00000223517418,
          100.00000223517418,
          100.00000223517418,
          100.00000223517418,
          100.00000223517418,
          100.00000223517418,
          100.00000223517418,
          100.00000223517418,
          100.00000223517418,
          100.00000223517418,
          100.00000223517418,
          100.00000223517418,
          100.00000223517418,
          100.00000223517418,
          100.00000223517418,
          100.00000223517418,
          100.00000223517418,
          100.00000223517418,
          100.00000223517418,
          100.00000223517418,
          100.00000223517418,
          100.00000223517418,
          100.00000223517418,
          100.00000223517418,
          100.00000223517418,
          100.00000223517418,
          100.00000223517418,
          100.00000223517418,
          100.00000223517418,
          100.00000223517418,
          100.00000223517418,
          100.00000223517418,
          100.00000223517418,
          100.00000223517418,
          100.00000223517418,
          100.00000223517418,
          100.00000223517418,
          100.00000223517418,
          100.00000223517418,
          100.00000223517418,
          100.00000223517418,
          100.00000223517418,
          100.00000223517418,
          100.00000223517418,
          100.00000223517418,
          100.00000223517418,
          100.00000223517418,
          100.00000223517418,
          100.00000223517418,
          100.00000223517418,
          100.00000223517418,
          100.00000223517418,
          100.00000223517418,
          100.00000223517418,
          100.00000223517418,
          100.00000223517418,
          100.00000223517418,
          100.00000223517418,
          100.00000223517418,
          100.00000223517418,
          100.00000223517418,
          100.00000223517418,
          100.00000223517418,
          100.00000223517418,
          100.00000223517418,
          100.00000223517418,
          100.00000223517418,
          100.00000223517418,
          100.00000223517418,
          100.00000223517418,
          100.00000223517418,
          100.00000223517418,
          100.00000223517418,
          100.00000223517418,
          100.00000223517418,
          100.00000223517418,
          100.00000223517418,
          100.00000223517418,
          100.00000223517418,
          100.00000223517418,
          100.00000223517418,
          100.00000223517418,
          100.00000223517418,
          100.00000223517418,
          100.00000223517418,
          100.00000223517418,
          100.00000223517418,
          100.00000223517418,
          100.00000223517418
         ],
         "xaxis": "x",
         "y": [
          66.95523019880056,
          66.92020874470472,
          66.99765101075171,
          66.60985946655272,
          66.72558542340994,
          66.66416488587856,
          66.40139184892179,
          66.43206365406513,
          66.90209694206715,
          67.11603552103043,
          66.61065090447664,
          66.82331170886755,
          66.93542990833521,
          66.59399420022964,
          67.288563773036,
          66.67248345911503,
          66.79323576390743,
          66.62468295544386,
          66.10906962305307,
          67.03110914677383,
          66.81939233094454,
          66.48158002644777,
          67.00493041425943,
          66.57642479985952,
          66.91411193460226,
          66.79323576390743,
          66.50766357779503,
          66.197594627738,
          66.86436478048563,
          66.86421092599629,
          66.7659031227231,
          66.87403805553913,
          66.69603232294321,
          66.67248345911503,
          66.68909583240746,
          66.74517840147018,
          66.82385019958018,
          66.50748625397682,
          66.58763270825148,
          66.77373014390469,
          66.41529612243176,
          66.89277570694685,
          66.74517840147018,
          66.48284737020731,
          66.60396084189415,
          67.68246907740831,
          66.40437766909601,
          67.00493041425943,
          66.70587509870529,
          66.90209694206715,
          66.29546042531729,
          66.7629212141037,
          67.07080230116844,
          66.47630985826254,
          67.03110914677383,
          66.70587509870529,
          67.60436575859785,
          67.00493041425943,
          67.17517822980882,
          66.7629212141037,
          66.78450517356396,
          67.16828998178244,
          67.033033631742,
          67.66373794525862,
          67.07635801285504,
          67.11603552103043,
          66.93542990833521,
          66.59399420022964,
          66.61613751202822,
          66.58763270825148,
          66.52815360575914,
          66.8207848444581,
          66.60396084189415,
          66.81080516427754,
          67.1073205769062,
          67.075115442276,
          67.32382383197546,
          66.51541106402874,
          66.3178501650691,
          67.07887966185808,
          66.79734550416471,
          66.61613751202822,
          66.46978799253702,
          66.7659031227231,
          66.57699327915907,
          66.39469396322966,
          65.92441815882921,
          66.225940361619,
          66.78772568702698,
          66.60985946655272,
          66.86421092599629,
          66.78450517356396,
          66.99765101075171,
          66.47524200379847,
          66.34514760226011,
          66.96110144257545,
          66.78450517356396,
          66.52815360575914,
          66.66416488587856,
          66.74517840147018,
          67.033033631742,
          66.46442133933307,
          66.64563845843078,
          66.85383226722479,
          66.78789779543878,
          66.81080516427754,
          66.91770534962416,
          66.81080516427754,
          66.9638656079769,
          66.89071822911501,
          68.70591565966606,
          66.60725697875023,
          66.77373014390469,
          66.225940361619,
          66.66168235242367,
          66.34282935410738,
          66.59399420022964,
          67.16828998178244,
          66.34814906865357,
          67.03110914677383,
          66.34282935410738,
          66.78450517356396,
          67.1073205769062,
          66.36558808386326,
          66.8207848444581,
          66.7659031227231,
          66.43137261271478,
          66.59399420022964,
          66.6961757466197,
          66.57642479985952,
          66.64563845843078,
          67.36264079809189,
          66.89071822911501,
          66.34514760226011,
          66.27335753291845,
          66.60985946655272,
          66.99422970414162,
          66.87403805553913,
          66.64919927716254,
          66.85383226722479,
          66.72558542340994,
          66.39463659375906,
          66.91828034818171,
          67.53036696463822,
          66.87600687146187,
          66.66799429804087,
          66.79323576390743,
          66.61073826253414,
          66.78772568702698,
          66.39463659375906,
          66.36558808386326,
          66.19531027972697,
          66.225940361619,
          66.99487641453743,
          66.84441715478897,
          66.78772568702698,
          66.51541106402874,
          67.24138129502535,
          66.87403805553913,
          66.51541106402874,
          67.10416655987501,
          66.66416488587856,
          66.91411193460226,
          66.74517840147018,
          66.87403805553913,
          66.85383226722479,
          66.60396084189415,
          66.93642344325781,
          66.51541106402874,
          67.66373794525862,
          66.7629212141037,
          66.91020950675009,
          66.61793291568756,
          66.27449970692396,
          66.9638656079769,
          66.61173049360514,
          66.60985946655272,
          66.36558808386326,
          67.66373794525862,
          66.7669553309679,
          67.95676033943893,
          66.77407696843147,
          66.66168235242367,
          66.89071822911501,
          66.44793935120107,
          66.72558542340994,
          66.61355588585138,
          66.19531027972697,
          66.93542990833521,
          67.02275928109884,
          66.61355588585138,
          66.63994193077086,
          66.67248345911503,
          66.78450517356396,
          66.39463659375906,
          67.10891909897327,
          66.7629212141037,
          66.91828034818171,
          66.81080125272274,
          66.47524200379847,
          66.61073826253414,
          67.88007039576769,
          67.033033631742,
          66.87403805553913,
          66.40139184892179,
          66.81080125272274,
          66.64563845843078,
          66.46442133933307,
          66.69590584933758,
          66.6166838258505,
          66.61613751202822,
          66.84441715478897,
          66.60193465650082,
          67.02413354068996,
          66.64919927716254,
          67.49611869454385,
          66.77407696843147,
          66.90209694206715,
          66.63994193077086,
          66.29216950386764,
          66.81510917842388,
          66.80810749530792,
          66.99422970414162,
          66.84108842164278,
          66.91411193460226,
          66.74517840147018,
          66.92020874470472,
          66.66416488587856,
          66.66416488587856,
          66.61073826253414,
          67.03110914677383,
          66.46978799253702,
          66.93542990833521,
          66.39463659375906,
          67.11603552103043,
          67.07887966185808,
          67.11603552103043,
          67.17517822980882,
          66.94974750280379,
          67.07080230116844,
          66.78772568702698,
          66.70968364924192,
          66.7659031227231,
          66.39469396322966,
          65.91739300638436,
          67.66373794525862,
          66.61073826253414,
          67.53450147807598,
          66.93642344325781,
          66.61065090447664,
          66.12564548850061,
          66.50748625397682,
          66.85383226722479,
          66.74517840147018,
          66.66799429804087,
          66.87403805553913,
          66.72558542340994,
          66.69603232294321,
          66.36851523071527,
          66.39335099607706,
          66.61793291568756,
          66.79734550416471,
          66.74517840147018,
          66.76036436110735,
          66.79734550416471,
          66.45657736808062,
          66.87600687146187,
          66.7659031227231,
          66.90209694206715,
          66.58763270825148,
          66.67992454022169,
          66.70968364924192,
          66.93542990833521,
          67.61066988110542,
          67.66373794525862,
          66.46978799253702,
          66.48158002644777,
          66.79734550416471,
          66.45657736808062,
          66.64563845843078,
          66.41529612243176,
          66.93542990833521,
          66.225940361619,
          66.58763270825148,
          67.07887966185808,
          67.24248044192791,
          67.16828998178244,
          66.56502783298492,
          66.78789779543878,
          66.3093125447631,
          66.7629212141037,
          66.19489435106516,
          66.7659031227231,
          67.02275928109884,
          66.61073826253414,
          66.89277570694685,
          67.07887966185808,
          66.86421092599629,
          66.61355588585138,
          66.64563845843078,
          66.80810749530792
         ],
         "yaxis": "y"
        }
       ],
       "layout": {
        "legend": {
         "tracegroupgap": 0
        },
        "template": {
         "data": {
          "bar": [
           {
            "error_x": {
             "color": "#2a3f5f"
            },
            "error_y": {
             "color": "#2a3f5f"
            },
            "marker": {
             "line": {
              "color": "#E5ECF6",
              "width": 0.5
             },
             "pattern": {
              "fillmode": "overlay",
              "size": 10,
              "solidity": 0.2
             }
            },
            "type": "bar"
           }
          ],
          "barpolar": [
           {
            "marker": {
             "line": {
              "color": "#E5ECF6",
              "width": 0.5
             },
             "pattern": {
              "fillmode": "overlay",
              "size": 10,
              "solidity": 0.2
             }
            },
            "type": "barpolar"
           }
          ],
          "carpet": [
           {
            "aaxis": {
             "endlinecolor": "#2a3f5f",
             "gridcolor": "white",
             "linecolor": "white",
             "minorgridcolor": "white",
             "startlinecolor": "#2a3f5f"
            },
            "baxis": {
             "endlinecolor": "#2a3f5f",
             "gridcolor": "white",
             "linecolor": "white",
             "minorgridcolor": "white",
             "startlinecolor": "#2a3f5f"
            },
            "type": "carpet"
           }
          ],
          "choropleth": [
           {
            "colorbar": {
             "outlinewidth": 0,
             "ticks": ""
            },
            "type": "choropleth"
           }
          ],
          "contour": [
           {
            "colorbar": {
             "outlinewidth": 0,
             "ticks": ""
            },
            "colorscale": [
             [
              0,
              "#0d0887"
             ],
             [
              0.1111111111111111,
              "#46039f"
             ],
             [
              0.2222222222222222,
              "#7201a8"
             ],
             [
              0.3333333333333333,
              "#9c179e"
             ],
             [
              0.4444444444444444,
              "#bd3786"
             ],
             [
              0.5555555555555556,
              "#d8576b"
             ],
             [
              0.6666666666666666,
              "#ed7953"
             ],
             [
              0.7777777777777778,
              "#fb9f3a"
             ],
             [
              0.8888888888888888,
              "#fdca26"
             ],
             [
              1,
              "#f0f921"
             ]
            ],
            "type": "contour"
           }
          ],
          "contourcarpet": [
           {
            "colorbar": {
             "outlinewidth": 0,
             "ticks": ""
            },
            "type": "contourcarpet"
           }
          ],
          "heatmap": [
           {
            "colorbar": {
             "outlinewidth": 0,
             "ticks": ""
            },
            "colorscale": [
             [
              0,
              "#0d0887"
             ],
             [
              0.1111111111111111,
              "#46039f"
             ],
             [
              0.2222222222222222,
              "#7201a8"
             ],
             [
              0.3333333333333333,
              "#9c179e"
             ],
             [
              0.4444444444444444,
              "#bd3786"
             ],
             [
              0.5555555555555556,
              "#d8576b"
             ],
             [
              0.6666666666666666,
              "#ed7953"
             ],
             [
              0.7777777777777778,
              "#fb9f3a"
             ],
             [
              0.8888888888888888,
              "#fdca26"
             ],
             [
              1,
              "#f0f921"
             ]
            ],
            "type": "heatmap"
           }
          ],
          "heatmapgl": [
           {
            "colorbar": {
             "outlinewidth": 0,
             "ticks": ""
            },
            "colorscale": [
             [
              0,
              "#0d0887"
             ],
             [
              0.1111111111111111,
              "#46039f"
             ],
             [
              0.2222222222222222,
              "#7201a8"
             ],
             [
              0.3333333333333333,
              "#9c179e"
             ],
             [
              0.4444444444444444,
              "#bd3786"
             ],
             [
              0.5555555555555556,
              "#d8576b"
             ],
             [
              0.6666666666666666,
              "#ed7953"
             ],
             [
              0.7777777777777778,
              "#fb9f3a"
             ],
             [
              0.8888888888888888,
              "#fdca26"
             ],
             [
              1,
              "#f0f921"
             ]
            ],
            "type": "heatmapgl"
           }
          ],
          "histogram": [
           {
            "marker": {
             "pattern": {
              "fillmode": "overlay",
              "size": 10,
              "solidity": 0.2
             }
            },
            "type": "histogram"
           }
          ],
          "histogram2d": [
           {
            "colorbar": {
             "outlinewidth": 0,
             "ticks": ""
            },
            "colorscale": [
             [
              0,
              "#0d0887"
             ],
             [
              0.1111111111111111,
              "#46039f"
             ],
             [
              0.2222222222222222,
              "#7201a8"
             ],
             [
              0.3333333333333333,
              "#9c179e"
             ],
             [
              0.4444444444444444,
              "#bd3786"
             ],
             [
              0.5555555555555556,
              "#d8576b"
             ],
             [
              0.6666666666666666,
              "#ed7953"
             ],
             [
              0.7777777777777778,
              "#fb9f3a"
             ],
             [
              0.8888888888888888,
              "#fdca26"
             ],
             [
              1,
              "#f0f921"
             ]
            ],
            "type": "histogram2d"
           }
          ],
          "histogram2dcontour": [
           {
            "colorbar": {
             "outlinewidth": 0,
             "ticks": ""
            },
            "colorscale": [
             [
              0,
              "#0d0887"
             ],
             [
              0.1111111111111111,
              "#46039f"
             ],
             [
              0.2222222222222222,
              "#7201a8"
             ],
             [
              0.3333333333333333,
              "#9c179e"
             ],
             [
              0.4444444444444444,
              "#bd3786"
             ],
             [
              0.5555555555555556,
              "#d8576b"
             ],
             [
              0.6666666666666666,
              "#ed7953"
             ],
             [
              0.7777777777777778,
              "#fb9f3a"
             ],
             [
              0.8888888888888888,
              "#fdca26"
             ],
             [
              1,
              "#f0f921"
             ]
            ],
            "type": "histogram2dcontour"
           }
          ],
          "mesh3d": [
           {
            "colorbar": {
             "outlinewidth": 0,
             "ticks": ""
            },
            "type": "mesh3d"
           }
          ],
          "parcoords": [
           {
            "line": {
             "colorbar": {
              "outlinewidth": 0,
              "ticks": ""
             }
            },
            "type": "parcoords"
           }
          ],
          "pie": [
           {
            "automargin": true,
            "type": "pie"
           }
          ],
          "scatter": [
           {
            "fillpattern": {
             "fillmode": "overlay",
             "size": 10,
             "solidity": 0.2
            },
            "type": "scatter"
           }
          ],
          "scatter3d": [
           {
            "line": {
             "colorbar": {
              "outlinewidth": 0,
              "ticks": ""
             }
            },
            "marker": {
             "colorbar": {
              "outlinewidth": 0,
              "ticks": ""
             }
            },
            "type": "scatter3d"
           }
          ],
          "scattercarpet": [
           {
            "marker": {
             "colorbar": {
              "outlinewidth": 0,
              "ticks": ""
             }
            },
            "type": "scattercarpet"
           }
          ],
          "scattergeo": [
           {
            "marker": {
             "colorbar": {
              "outlinewidth": 0,
              "ticks": ""
             }
            },
            "type": "scattergeo"
           }
          ],
          "scattergl": [
           {
            "marker": {
             "colorbar": {
              "outlinewidth": 0,
              "ticks": ""
             }
            },
            "type": "scattergl"
           }
          ],
          "scattermapbox": [
           {
            "marker": {
             "colorbar": {
              "outlinewidth": 0,
              "ticks": ""
             }
            },
            "type": "scattermapbox"
           }
          ],
          "scatterpolar": [
           {
            "marker": {
             "colorbar": {
              "outlinewidth": 0,
              "ticks": ""
             }
            },
            "type": "scatterpolar"
           }
          ],
          "scatterpolargl": [
           {
            "marker": {
             "colorbar": {
              "outlinewidth": 0,
              "ticks": ""
             }
            },
            "type": "scatterpolargl"
           }
          ],
          "scatterternary": [
           {
            "marker": {
             "colorbar": {
              "outlinewidth": 0,
              "ticks": ""
             }
            },
            "type": "scatterternary"
           }
          ],
          "surface": [
           {
            "colorbar": {
             "outlinewidth": 0,
             "ticks": ""
            },
            "colorscale": [
             [
              0,
              "#0d0887"
             ],
             [
              0.1111111111111111,
              "#46039f"
             ],
             [
              0.2222222222222222,
              "#7201a8"
             ],
             [
              0.3333333333333333,
              "#9c179e"
             ],
             [
              0.4444444444444444,
              "#bd3786"
             ],
             [
              0.5555555555555556,
              "#d8576b"
             ],
             [
              0.6666666666666666,
              "#ed7953"
             ],
             [
              0.7777777777777778,
              "#fb9f3a"
             ],
             [
              0.8888888888888888,
              "#fdca26"
             ],
             [
              1,
              "#f0f921"
             ]
            ],
            "type": "surface"
           }
          ],
          "table": [
           {
            "cells": {
             "fill": {
              "color": "#EBF0F8"
             },
             "line": {
              "color": "white"
             }
            },
            "header": {
             "fill": {
              "color": "#C8D4E3"
             },
             "line": {
              "color": "white"
             }
            },
            "type": "table"
           }
          ]
         },
         "layout": {
          "annotationdefaults": {
           "arrowcolor": "#2a3f5f",
           "arrowhead": 0,
           "arrowwidth": 1
          },
          "autotypenumbers": "strict",
          "coloraxis": {
           "colorbar": {
            "outlinewidth": 0,
            "ticks": ""
           }
          },
          "colorscale": {
           "diverging": [
            [
             0,
             "#8e0152"
            ],
            [
             0.1,
             "#c51b7d"
            ],
            [
             0.2,
             "#de77ae"
            ],
            [
             0.3,
             "#f1b6da"
            ],
            [
             0.4,
             "#fde0ef"
            ],
            [
             0.5,
             "#f7f7f7"
            ],
            [
             0.6,
             "#e6f5d0"
            ],
            [
             0.7,
             "#b8e186"
            ],
            [
             0.8,
             "#7fbc41"
            ],
            [
             0.9,
             "#4d9221"
            ],
            [
             1,
             "#276419"
            ]
           ],
           "sequential": [
            [
             0,
             "#0d0887"
            ],
            [
             0.1111111111111111,
             "#46039f"
            ],
            [
             0.2222222222222222,
             "#7201a8"
            ],
            [
             0.3333333333333333,
             "#9c179e"
            ],
            [
             0.4444444444444444,
             "#bd3786"
            ],
            [
             0.5555555555555556,
             "#d8576b"
            ],
            [
             0.6666666666666666,
             "#ed7953"
            ],
            [
             0.7777777777777778,
             "#fb9f3a"
            ],
            [
             0.8888888888888888,
             "#fdca26"
            ],
            [
             1,
             "#f0f921"
            ]
           ],
           "sequentialminus": [
            [
             0,
             "#0d0887"
            ],
            [
             0.1111111111111111,
             "#46039f"
            ],
            [
             0.2222222222222222,
             "#7201a8"
            ],
            [
             0.3333333333333333,
             "#9c179e"
            ],
            [
             0.4444444444444444,
             "#bd3786"
            ],
            [
             0.5555555555555556,
             "#d8576b"
            ],
            [
             0.6666666666666666,
             "#ed7953"
            ],
            [
             0.7777777777777778,
             "#fb9f3a"
            ],
            [
             0.8888888888888888,
             "#fdca26"
            ],
            [
             1,
             "#f0f921"
            ]
           ]
          },
          "colorway": [
           "#636efa",
           "#EF553B",
           "#00cc96",
           "#ab63fa",
           "#FFA15A",
           "#19d3f3",
           "#FF6692",
           "#B6E880",
           "#FF97FF",
           "#FECB52"
          ],
          "font": {
           "color": "#2a3f5f"
          },
          "geo": {
           "bgcolor": "white",
           "lakecolor": "white",
           "landcolor": "#E5ECF6",
           "showlakes": true,
           "showland": true,
           "subunitcolor": "white"
          },
          "hoverlabel": {
           "align": "left"
          },
          "hovermode": "closest",
          "mapbox": {
           "style": "light"
          },
          "paper_bgcolor": "white",
          "plot_bgcolor": "#E5ECF6",
          "polar": {
           "angularaxis": {
            "gridcolor": "white",
            "linecolor": "white",
            "ticks": ""
           },
           "bgcolor": "#E5ECF6",
           "radialaxis": {
            "gridcolor": "white",
            "linecolor": "white",
            "ticks": ""
           }
          },
          "scene": {
           "xaxis": {
            "backgroundcolor": "#E5ECF6",
            "gridcolor": "white",
            "gridwidth": 2,
            "linecolor": "white",
            "showbackground": true,
            "ticks": "",
            "zerolinecolor": "white"
           },
           "yaxis": {
            "backgroundcolor": "#E5ECF6",
            "gridcolor": "white",
            "gridwidth": 2,
            "linecolor": "white",
            "showbackground": true,
            "ticks": "",
            "zerolinecolor": "white"
           },
           "zaxis": {
            "backgroundcolor": "#E5ECF6",
            "gridcolor": "white",
            "gridwidth": 2,
            "linecolor": "white",
            "showbackground": true,
            "ticks": "",
            "zerolinecolor": "white"
           }
          },
          "shapedefaults": {
           "line": {
            "color": "#2a3f5f"
           }
          },
          "ternary": {
           "aaxis": {
            "gridcolor": "white",
            "linecolor": "white",
            "ticks": ""
           },
           "baxis": {
            "gridcolor": "white",
            "linecolor": "white",
            "ticks": ""
           },
           "bgcolor": "#E5ECF6",
           "caxis": {
            "gridcolor": "white",
            "linecolor": "white",
            "ticks": ""
           }
          },
          "title": {
           "x": 0.05
          },
          "xaxis": {
           "automargin": true,
           "gridcolor": "white",
           "linecolor": "white",
           "ticks": "",
           "title": {
            "standoff": 15
           },
           "zerolinecolor": "white",
           "zerolinewidth": 2
          },
          "yaxis": {
           "automargin": true,
           "gridcolor": "white",
           "linecolor": "white",
           "ticks": "",
           "title": {
            "standoff": 15
           },
           "zerolinecolor": "white",
           "zerolinewidth": 2
          }
         }
        },
        "title": {
         "text": "Positions: Predicted vs Labels"
        },
        "xaxis": {
         "anchor": "y",
         "domain": [
          0,
          1
         ],
         "title": {
          "text": "Label"
         }
        },
        "yaxis": {
         "anchor": "x",
         "domain": [
          0,
          1
         ],
         "title": {
          "text": "Predicted"
         }
        }
       }
      },
      "text/html": [
       "<div>                            <div id=\"2f9068d2-1313-4eca-954e-a181f029d3b7\" class=\"plotly-graph-div\" style=\"height:525px; width:100%;\"></div>            <script type=\"text/javascript\">                require([\"plotly\"], function(Plotly) {                    window.PLOTLYENV=window.PLOTLYENV || {};                                    if (document.getElementById(\"2f9068d2-1313-4eca-954e-a181f029d3b7\")) {                    Plotly.newPlot(                        \"2f9068d2-1313-4eca-954e-a181f029d3b7\",                        [{\"hovertemplate\":\"Label=%{x}<br>Predicted=%{y}<extra></extra>\",\"legendgroup\":\"\",\"marker\":{\"color\":\"#636efa\",\"symbol\":\"circle\"},\"mode\":\"markers\",\"name\":\"\",\"orientation\":\"v\",\"showlegend\":false,\"x\":[100.00000223517418,100.00000223517418,100.00000223517418,100.00000223517418,100.00000223517418,100.00000223517418,100.00000223517418,100.00000223517418,100.00000223517418,100.00000223517418,100.00000223517418,100.00000223517418,100.00000223517418,100.00000223517418,100.00000223517418,100.00000223517418,100.00000223517418,100.00000223517418,100.00000223517418,100.00000223517418,100.00000223517418,100.00000223517418,100.00000223517418,100.00000223517418,100.00000223517418,100.00000223517418,100.00000223517418,100.00000223517418,100.00000223517418,100.00000223517418,100.00000223517418,100.00000223517418,100.00000223517418,100.00000223517418,100.00000223517418,100.00000223517418,100.00000223517418,100.00000223517418,100.00000223517418,100.00000223517418,100.00000223517418,100.00000223517418,100.00000223517418,100.00000223517418,100.00000223517418,100.00000223517418,100.00000223517418,100.00000223517418,100.00000223517418,100.00000223517418,100.00000223517418,100.00000223517418,100.00000223517418,100.00000223517418,100.00000223517418,100.00000223517418,100.00000223517418,100.00000223517418,100.00000223517418,100.00000223517418,100.00000223517418,100.00000223517418,100.00000223517418,100.00000223517418,100.00000223517418,100.00000223517418,100.00000223517418,100.00000223517418,100.00000223517418,100.00000223517418,100.00000223517418,100.00000223517418,100.00000223517418,100.00000223517418,100.00000223517418,100.00000223517418,100.00000223517418,100.00000223517418,100.00000223517418,100.00000223517418,100.00000223517418,100.00000223517418,100.00000223517418,100.00000223517418,100.00000223517418,100.00000223517418,100.00000223517418,100.00000223517418,100.00000223517418,100.00000223517418,100.00000223517418,100.00000223517418,100.00000223517418,100.00000223517418,100.00000223517418,100.00000223517418,100.00000223517418,100.00000223517418,100.00000223517418,100.00000223517418,100.00000223517418,100.00000223517418,100.00000223517418,100.00000223517418,100.00000223517418,100.00000223517418,100.00000223517418,100.00000223517418,100.00000223517418,100.00000223517418,100.00000223517418,100.00000223517418,100.00000223517418,100.00000223517418,100.00000223517418,100.00000223517418,100.00000223517418,100.00000223517418,100.00000223517418,100.00000223517418,100.00000223517418,100.00000223517418,100.00000223517418,100.00000223517418,100.00000223517418,100.00000223517418,100.00000223517418,100.00000223517418,100.00000223517418,100.00000223517418,100.00000223517418,100.00000223517418,100.00000223517418,100.00000223517418,100.00000223517418,100.00000223517418,100.00000223517418,100.00000223517418,100.00000223517418,100.00000223517418,100.00000223517418,100.00000223517418,100.00000223517418,100.00000223517418,100.00000223517418,100.00000223517418,100.00000223517418,100.00000223517418,100.00000223517418,100.00000223517418,100.00000223517418,100.00000223517418,100.00000223517418,100.00000223517418,100.00000223517418,100.00000223517418,100.00000223517418,100.00000223517418,100.00000223517418,100.00000223517418,100.00000223517418,100.00000223517418,100.00000223517418,100.00000223517418,100.00000223517418,100.00000223517418,100.00000223517418,100.00000223517418,100.00000223517418,100.00000223517418,100.00000223517418,100.00000223517418,100.00000223517418,100.00000223517418,100.00000223517418,100.00000223517418,100.00000223517418,100.00000223517418,100.00000223517418,100.00000223517418,100.00000223517418,100.00000223517418,100.00000223517418,100.00000223517418,100.00000223517418,100.00000223517418,100.00000223517418,100.00000223517418,100.00000223517418,100.00000223517418,100.00000223517418,100.00000223517418,100.00000223517418,100.00000223517418,100.00000223517418,100.00000223517418,100.00000223517418,100.00000223517418,100.00000223517418,100.00000223517418,100.00000223517418,100.00000223517418,100.00000223517418,100.00000223517418,100.00000223517418,100.00000223517418,100.00000223517418,100.00000223517418,100.00000223517418,100.00000223517418,100.00000223517418,100.00000223517418,100.00000223517418,100.00000223517418,100.00000223517418,100.00000223517418,100.00000223517418,100.00000223517418,100.00000223517418,100.00000223517418,100.00000223517418,100.00000223517418,100.00000223517418,100.00000223517418,100.00000223517418,100.00000223517418,100.00000223517418,100.00000223517418,100.00000223517418,100.00000223517418,100.00000223517418,100.00000223517418,100.00000223517418,100.00000223517418,100.00000223517418,100.00000223517418,100.00000223517418,100.00000223517418,100.00000223517418,100.00000223517418,100.00000223517418,100.00000223517418,100.00000223517418,100.00000223517418,100.00000223517418,100.00000223517418,100.00000223517418,100.00000223517418,100.00000223517418,100.00000223517418,100.00000223517418,100.00000223517418,100.00000223517418,100.00000223517418,100.00000223517418,100.00000223517418,100.00000223517418,100.00000223517418,100.00000223517418,100.00000223517418,100.00000223517418,100.00000223517418,100.00000223517418,100.00000223517418,100.00000223517418,100.00000223517418,100.00000223517418,100.00000223517418,100.00000223517418,100.00000223517418,100.00000223517418,100.00000223517418,100.00000223517418,100.00000223517418,100.00000223517418,100.00000223517418,100.00000223517418,100.00000223517418,100.00000223517418,100.00000223517418,100.00000223517418,100.00000223517418,100.00000223517418,100.00000223517418,100.00000223517418,100.00000223517418,100.00000223517418,100.00000223517418,100.00000223517418,100.00000223517418,100.00000223517418,100.00000223517418,100.00000223517418,100.00000223517418,100.00000223517418,100.00000223517418,100.00000223517418,100.00000223517418,100.00000223517418,100.00000223517418,100.00000223517418],\"xaxis\":\"x\",\"y\":[66.95523019880056,66.92020874470472,66.99765101075171,66.60985946655272,66.72558542340994,66.66416488587856,66.40139184892179,66.43206365406513,66.90209694206715,67.11603552103043,66.61065090447664,66.82331170886755,66.93542990833521,66.59399420022964,67.288563773036,66.67248345911503,66.79323576390743,66.62468295544386,66.10906962305307,67.03110914677383,66.81939233094454,66.48158002644777,67.00493041425943,66.57642479985952,66.91411193460226,66.79323576390743,66.50766357779503,66.197594627738,66.86436478048563,66.86421092599629,66.7659031227231,66.87403805553913,66.69603232294321,66.67248345911503,66.68909583240746,66.74517840147018,66.82385019958018,66.50748625397682,66.58763270825148,66.77373014390469,66.41529612243176,66.89277570694685,66.74517840147018,66.48284737020731,66.60396084189415,67.68246907740831,66.40437766909601,67.00493041425943,66.70587509870529,66.90209694206715,66.29546042531729,66.7629212141037,67.07080230116844,66.47630985826254,67.03110914677383,66.70587509870529,67.60436575859785,67.00493041425943,67.17517822980882,66.7629212141037,66.78450517356396,67.16828998178244,67.033033631742,67.66373794525862,67.07635801285504,67.11603552103043,66.93542990833521,66.59399420022964,66.61613751202822,66.58763270825148,66.52815360575914,66.8207848444581,66.60396084189415,66.81080516427754,67.1073205769062,67.075115442276,67.32382383197546,66.51541106402874,66.3178501650691,67.07887966185808,66.79734550416471,66.61613751202822,66.46978799253702,66.7659031227231,66.57699327915907,66.39469396322966,65.92441815882921,66.225940361619,66.78772568702698,66.60985946655272,66.86421092599629,66.78450517356396,66.99765101075171,66.47524200379847,66.34514760226011,66.96110144257545,66.78450517356396,66.52815360575914,66.66416488587856,66.74517840147018,67.033033631742,66.46442133933307,66.64563845843078,66.85383226722479,66.78789779543878,66.81080516427754,66.91770534962416,66.81080516427754,66.9638656079769,66.89071822911501,68.70591565966606,66.60725697875023,66.77373014390469,66.225940361619,66.66168235242367,66.34282935410738,66.59399420022964,67.16828998178244,66.34814906865357,67.03110914677383,66.34282935410738,66.78450517356396,67.1073205769062,66.36558808386326,66.8207848444581,66.7659031227231,66.43137261271478,66.59399420022964,66.6961757466197,66.57642479985952,66.64563845843078,67.36264079809189,66.89071822911501,66.34514760226011,66.27335753291845,66.60985946655272,66.99422970414162,66.87403805553913,66.64919927716254,66.85383226722479,66.72558542340994,66.39463659375906,66.91828034818171,67.53036696463822,66.87600687146187,66.66799429804087,66.79323576390743,66.61073826253414,66.78772568702698,66.39463659375906,66.36558808386326,66.19531027972697,66.225940361619,66.99487641453743,66.84441715478897,66.78772568702698,66.51541106402874,67.24138129502535,66.87403805553913,66.51541106402874,67.10416655987501,66.66416488587856,66.91411193460226,66.74517840147018,66.87403805553913,66.85383226722479,66.60396084189415,66.93642344325781,66.51541106402874,67.66373794525862,66.7629212141037,66.91020950675009,66.61793291568756,66.27449970692396,66.9638656079769,66.61173049360514,66.60985946655272,66.36558808386326,67.66373794525862,66.7669553309679,67.95676033943893,66.77407696843147,66.66168235242367,66.89071822911501,66.44793935120107,66.72558542340994,66.61355588585138,66.19531027972697,66.93542990833521,67.02275928109884,66.61355588585138,66.63994193077086,66.67248345911503,66.78450517356396,66.39463659375906,67.10891909897327,66.7629212141037,66.91828034818171,66.81080125272274,66.47524200379847,66.61073826253414,67.88007039576769,67.033033631742,66.87403805553913,66.40139184892179,66.81080125272274,66.64563845843078,66.46442133933307,66.69590584933758,66.6166838258505,66.61613751202822,66.84441715478897,66.60193465650082,67.02413354068996,66.64919927716254,67.49611869454385,66.77407696843147,66.90209694206715,66.63994193077086,66.29216950386764,66.81510917842388,66.80810749530792,66.99422970414162,66.84108842164278,66.91411193460226,66.74517840147018,66.92020874470472,66.66416488587856,66.66416488587856,66.61073826253414,67.03110914677383,66.46978799253702,66.93542990833521,66.39463659375906,67.11603552103043,67.07887966185808,67.11603552103043,67.17517822980882,66.94974750280379,67.07080230116844,66.78772568702698,66.70968364924192,66.7659031227231,66.39469396322966,65.91739300638436,67.66373794525862,66.61073826253414,67.53450147807598,66.93642344325781,66.61065090447664,66.12564548850061,66.50748625397682,66.85383226722479,66.74517840147018,66.66799429804087,66.87403805553913,66.72558542340994,66.69603232294321,66.36851523071527,66.39335099607706,66.61793291568756,66.79734550416471,66.74517840147018,66.76036436110735,66.79734550416471,66.45657736808062,66.87600687146187,66.7659031227231,66.90209694206715,66.58763270825148,66.67992454022169,66.70968364924192,66.93542990833521,67.61066988110542,67.66373794525862,66.46978799253702,66.48158002644777,66.79734550416471,66.45657736808062,66.64563845843078,66.41529612243176,66.93542990833521,66.225940361619,66.58763270825148,67.07887966185808,67.24248044192791,67.16828998178244,66.56502783298492,66.78789779543878,66.3093125447631,66.7629212141037,66.19489435106516,66.7659031227231,67.02275928109884,66.61073826253414,66.89277570694685,67.07887966185808,66.86421092599629,66.61355588585138,66.64563845843078,66.80810749530792],\"yaxis\":\"y\",\"type\":\"scatter\"}],                        {\"template\":{\"data\":{\"histogram2dcontour\":[{\"type\":\"histogram2dcontour\",\"colorbar\":{\"outlinewidth\":0,\"ticks\":\"\"},\"colorscale\":[[0.0,\"#0d0887\"],[0.1111111111111111,\"#46039f\"],[0.2222222222222222,\"#7201a8\"],[0.3333333333333333,\"#9c179e\"],[0.4444444444444444,\"#bd3786\"],[0.5555555555555556,\"#d8576b\"],[0.6666666666666666,\"#ed7953\"],[0.7777777777777778,\"#fb9f3a\"],[0.8888888888888888,\"#fdca26\"],[1.0,\"#f0f921\"]]}],\"choropleth\":[{\"type\":\"choropleth\",\"colorbar\":{\"outlinewidth\":0,\"ticks\":\"\"}}],\"histogram2d\":[{\"type\":\"histogram2d\",\"colorbar\":{\"outlinewidth\":0,\"ticks\":\"\"},\"colorscale\":[[0.0,\"#0d0887\"],[0.1111111111111111,\"#46039f\"],[0.2222222222222222,\"#7201a8\"],[0.3333333333333333,\"#9c179e\"],[0.4444444444444444,\"#bd3786\"],[0.5555555555555556,\"#d8576b\"],[0.6666666666666666,\"#ed7953\"],[0.7777777777777778,\"#fb9f3a\"],[0.8888888888888888,\"#fdca26\"],[1.0,\"#f0f921\"]]}],\"heatmap\":[{\"type\":\"heatmap\",\"colorbar\":{\"outlinewidth\":0,\"ticks\":\"\"},\"colorscale\":[[0.0,\"#0d0887\"],[0.1111111111111111,\"#46039f\"],[0.2222222222222222,\"#7201a8\"],[0.3333333333333333,\"#9c179e\"],[0.4444444444444444,\"#bd3786\"],[0.5555555555555556,\"#d8576b\"],[0.6666666666666666,\"#ed7953\"],[0.7777777777777778,\"#fb9f3a\"],[0.8888888888888888,\"#fdca26\"],[1.0,\"#f0f921\"]]}],\"heatmapgl\":[{\"type\":\"heatmapgl\",\"colorbar\":{\"outlinewidth\":0,\"ticks\":\"\"},\"colorscale\":[[0.0,\"#0d0887\"],[0.1111111111111111,\"#46039f\"],[0.2222222222222222,\"#7201a8\"],[0.3333333333333333,\"#9c179e\"],[0.4444444444444444,\"#bd3786\"],[0.5555555555555556,\"#d8576b\"],[0.6666666666666666,\"#ed7953\"],[0.7777777777777778,\"#fb9f3a\"],[0.8888888888888888,\"#fdca26\"],[1.0,\"#f0f921\"]]}],\"contourcarpet\":[{\"type\":\"contourcarpet\",\"colorbar\":{\"outlinewidth\":0,\"ticks\":\"\"}}],\"contour\":[{\"type\":\"contour\",\"colorbar\":{\"outlinewidth\":0,\"ticks\":\"\"},\"colorscale\":[[0.0,\"#0d0887\"],[0.1111111111111111,\"#46039f\"],[0.2222222222222222,\"#7201a8\"],[0.3333333333333333,\"#9c179e\"],[0.4444444444444444,\"#bd3786\"],[0.5555555555555556,\"#d8576b\"],[0.6666666666666666,\"#ed7953\"],[0.7777777777777778,\"#fb9f3a\"],[0.8888888888888888,\"#fdca26\"],[1.0,\"#f0f921\"]]}],\"surface\":[{\"type\":\"surface\",\"colorbar\":{\"outlinewidth\":0,\"ticks\":\"\"},\"colorscale\":[[0.0,\"#0d0887\"],[0.1111111111111111,\"#46039f\"],[0.2222222222222222,\"#7201a8\"],[0.3333333333333333,\"#9c179e\"],[0.4444444444444444,\"#bd3786\"],[0.5555555555555556,\"#d8576b\"],[0.6666666666666666,\"#ed7953\"],[0.7777777777777778,\"#fb9f3a\"],[0.8888888888888888,\"#fdca26\"],[1.0,\"#f0f921\"]]}],\"mesh3d\":[{\"type\":\"mesh3d\",\"colorbar\":{\"outlinewidth\":0,\"ticks\":\"\"}}],\"scatter\":[{\"fillpattern\":{\"fillmode\":\"overlay\",\"size\":10,\"solidity\":0.2},\"type\":\"scatter\"}],\"parcoords\":[{\"type\":\"parcoords\",\"line\":{\"colorbar\":{\"outlinewidth\":0,\"ticks\":\"\"}}}],\"scatterpolargl\":[{\"type\":\"scatterpolargl\",\"marker\":{\"colorbar\":{\"outlinewidth\":0,\"ticks\":\"\"}}}],\"bar\":[{\"error_x\":{\"color\":\"#2a3f5f\"},\"error_y\":{\"color\":\"#2a3f5f\"},\"marker\":{\"line\":{\"color\":\"#E5ECF6\",\"width\":0.5},\"pattern\":{\"fillmode\":\"overlay\",\"size\":10,\"solidity\":0.2}},\"type\":\"bar\"}],\"scattergeo\":[{\"type\":\"scattergeo\",\"marker\":{\"colorbar\":{\"outlinewidth\":0,\"ticks\":\"\"}}}],\"scatterpolar\":[{\"type\":\"scatterpolar\",\"marker\":{\"colorbar\":{\"outlinewidth\":0,\"ticks\":\"\"}}}],\"histogram\":[{\"marker\":{\"pattern\":{\"fillmode\":\"overlay\",\"size\":10,\"solidity\":0.2}},\"type\":\"histogram\"}],\"scattergl\":[{\"type\":\"scattergl\",\"marker\":{\"colorbar\":{\"outlinewidth\":0,\"ticks\":\"\"}}}],\"scatter3d\":[{\"type\":\"scatter3d\",\"line\":{\"colorbar\":{\"outlinewidth\":0,\"ticks\":\"\"}},\"marker\":{\"colorbar\":{\"outlinewidth\":0,\"ticks\":\"\"}}}],\"scattermapbox\":[{\"type\":\"scattermapbox\",\"marker\":{\"colorbar\":{\"outlinewidth\":0,\"ticks\":\"\"}}}],\"scatterternary\":[{\"type\":\"scatterternary\",\"marker\":{\"colorbar\":{\"outlinewidth\":0,\"ticks\":\"\"}}}],\"scattercarpet\":[{\"type\":\"scattercarpet\",\"marker\":{\"colorbar\":{\"outlinewidth\":0,\"ticks\":\"\"}}}],\"carpet\":[{\"aaxis\":{\"endlinecolor\":\"#2a3f5f\",\"gridcolor\":\"white\",\"linecolor\":\"white\",\"minorgridcolor\":\"white\",\"startlinecolor\":\"#2a3f5f\"},\"baxis\":{\"endlinecolor\":\"#2a3f5f\",\"gridcolor\":\"white\",\"linecolor\":\"white\",\"minorgridcolor\":\"white\",\"startlinecolor\":\"#2a3f5f\"},\"type\":\"carpet\"}],\"table\":[{\"cells\":{\"fill\":{\"color\":\"#EBF0F8\"},\"line\":{\"color\":\"white\"}},\"header\":{\"fill\":{\"color\":\"#C8D4E3\"},\"line\":{\"color\":\"white\"}},\"type\":\"table\"}],\"barpolar\":[{\"marker\":{\"line\":{\"color\":\"#E5ECF6\",\"width\":0.5},\"pattern\":{\"fillmode\":\"overlay\",\"size\":10,\"solidity\":0.2}},\"type\":\"barpolar\"}],\"pie\":[{\"automargin\":true,\"type\":\"pie\"}]},\"layout\":{\"autotypenumbers\":\"strict\",\"colorway\":[\"#636efa\",\"#EF553B\",\"#00cc96\",\"#ab63fa\",\"#FFA15A\",\"#19d3f3\",\"#FF6692\",\"#B6E880\",\"#FF97FF\",\"#FECB52\"],\"font\":{\"color\":\"#2a3f5f\"},\"hovermode\":\"closest\",\"hoverlabel\":{\"align\":\"left\"},\"paper_bgcolor\":\"white\",\"plot_bgcolor\":\"#E5ECF6\",\"polar\":{\"bgcolor\":\"#E5ECF6\",\"angularaxis\":{\"gridcolor\":\"white\",\"linecolor\":\"white\",\"ticks\":\"\"},\"radialaxis\":{\"gridcolor\":\"white\",\"linecolor\":\"white\",\"ticks\":\"\"}},\"ternary\":{\"bgcolor\":\"#E5ECF6\",\"aaxis\":{\"gridcolor\":\"white\",\"linecolor\":\"white\",\"ticks\":\"\"},\"baxis\":{\"gridcolor\":\"white\",\"linecolor\":\"white\",\"ticks\":\"\"},\"caxis\":{\"gridcolor\":\"white\",\"linecolor\":\"white\",\"ticks\":\"\"}},\"coloraxis\":{\"colorbar\":{\"outlinewidth\":0,\"ticks\":\"\"}},\"colorscale\":{\"sequential\":[[0.0,\"#0d0887\"],[0.1111111111111111,\"#46039f\"],[0.2222222222222222,\"#7201a8\"],[0.3333333333333333,\"#9c179e\"],[0.4444444444444444,\"#bd3786\"],[0.5555555555555556,\"#d8576b\"],[0.6666666666666666,\"#ed7953\"],[0.7777777777777778,\"#fb9f3a\"],[0.8888888888888888,\"#fdca26\"],[1.0,\"#f0f921\"]],\"sequentialminus\":[[0.0,\"#0d0887\"],[0.1111111111111111,\"#46039f\"],[0.2222222222222222,\"#7201a8\"],[0.3333333333333333,\"#9c179e\"],[0.4444444444444444,\"#bd3786\"],[0.5555555555555556,\"#d8576b\"],[0.6666666666666666,\"#ed7953\"],[0.7777777777777778,\"#fb9f3a\"],[0.8888888888888888,\"#fdca26\"],[1.0,\"#f0f921\"]],\"diverging\":[[0,\"#8e0152\"],[0.1,\"#c51b7d\"],[0.2,\"#de77ae\"],[0.3,\"#f1b6da\"],[0.4,\"#fde0ef\"],[0.5,\"#f7f7f7\"],[0.6,\"#e6f5d0\"],[0.7,\"#b8e186\"],[0.8,\"#7fbc41\"],[0.9,\"#4d9221\"],[1,\"#276419\"]]},\"xaxis\":{\"gridcolor\":\"white\",\"linecolor\":\"white\",\"ticks\":\"\",\"title\":{\"standoff\":15},\"zerolinecolor\":\"white\",\"automargin\":true,\"zerolinewidth\":2},\"yaxis\":{\"gridcolor\":\"white\",\"linecolor\":\"white\",\"ticks\":\"\",\"title\":{\"standoff\":15},\"zerolinecolor\":\"white\",\"automargin\":true,\"zerolinewidth\":2},\"scene\":{\"xaxis\":{\"backgroundcolor\":\"#E5ECF6\",\"gridcolor\":\"white\",\"linecolor\":\"white\",\"showbackground\":true,\"ticks\":\"\",\"zerolinecolor\":\"white\",\"gridwidth\":2},\"yaxis\":{\"backgroundcolor\":\"#E5ECF6\",\"gridcolor\":\"white\",\"linecolor\":\"white\",\"showbackground\":true,\"ticks\":\"\",\"zerolinecolor\":\"white\",\"gridwidth\":2},\"zaxis\":{\"backgroundcolor\":\"#E5ECF6\",\"gridcolor\":\"white\",\"linecolor\":\"white\",\"showbackground\":true,\"ticks\":\"\",\"zerolinecolor\":\"white\",\"gridwidth\":2}},\"shapedefaults\":{\"line\":{\"color\":\"#2a3f5f\"}},\"annotationdefaults\":{\"arrowcolor\":\"#2a3f5f\",\"arrowhead\":0,\"arrowwidth\":1},\"geo\":{\"bgcolor\":\"white\",\"landcolor\":\"#E5ECF6\",\"subunitcolor\":\"white\",\"showland\":true,\"showlakes\":true,\"lakecolor\":\"white\"},\"title\":{\"x\":0.05},\"mapbox\":{\"style\":\"light\"}}},\"xaxis\":{\"anchor\":\"y\",\"domain\":[0.0,1.0],\"title\":{\"text\":\"Label\"}},\"yaxis\":{\"anchor\":\"x\",\"domain\":[0.0,1.0],\"title\":{\"text\":\"Predicted\"}},\"legend\":{\"tracegroupgap\":0},\"title\":{\"text\":\"Positions: Predicted vs Labels\"}},                        {\"responsive\": true}                    ).then(function(){\n",
       "                            \n",
       "var gd = document.getElementById('2f9068d2-1313-4eca-954e-a181f029d3b7');\n",
       "var x = new MutationObserver(function (mutations, observer) {{\n",
       "        var display = window.getComputedStyle(gd).display;\n",
       "        if (!display || display === 'none') {{\n",
       "            console.log([gd, 'removed!']);\n",
       "            Plotly.purge(gd);\n",
       "            observer.disconnect();\n",
       "        }}\n",
       "}});\n",
       "\n",
       "// Listen for the removal of the full notebook cells\n",
       "var notebookContainer = gd.closest('#notebook-container');\n",
       "if (notebookContainer) {{\n",
       "    x.observe(notebookContainer, {childList: true});\n",
       "}}\n",
       "\n",
       "// Listen for the clearing of the current output cell\n",
       "var outputEl = gd.closest('.output');\n",
       "if (outputEl) {{\n",
       "    x.observe(outputEl, {childList: true});\n",
       "}}\n",
       "\n",
       "                        })                };                });            </script>        </div>"
      ]
     },
     "metadata": {},
     "output_type": "display_data"
    }
   ],
   "source": [
    "df = pd.read_csv(r\"E:\\Academics\\DDP\\Code\\CNN\\droplet-parameter-estimation\\infocus\\no_100\\model\\train_no_100_1\\dia100.csv\")\n",
    "\n",
    "fig = px.scatter(df, x = 'Label', y = 'Predicted', title='Positions: Predicted vs Labels')\n",
    "fig.show()"
   ]
  },
  {
   "cell_type": "code",
   "execution_count": 30,
   "metadata": {},
   "outputs": [
    {
     "data": {
      "image/png": "[encoded data removed]",
      "text/plain": [
       "<Figure size 576x288 with 1 Axes>"
      ]
     },
     "metadata": {},
     "output_type": "display_data"
    }
   ],
   "source": [
    "sns.set(rc={\"figure.figsize\": (8, 4)}); np.random.seed(0)\n",
    "x = pd.read_csv(r\"E:\\Academics\\DDP\\Code\\CNN\\droplet-parameter-estimation\\infocus\\no_200\\model\\train_no_200_1\\dia200.csv\")['Predicted']\n",
    "ax = sns.distplot(x, bins = 10)\n",
    "plt.show()"
   ]
  },
  {
   "cell_type": "code",
   "execution_count": null,
   "metadata": {},
   "outputs": [],
   "source": []
  }
 ],
 "metadata": {
  "kernelspec": {
   "display_name": "Python 3",
   "language": "python",
   "name": "python3"
  },
  "language_info": {
   "codemirror_mode": {
    "name": "ipython",
    "version": 3
   },
   "file_extension": ".py",
   "mimetype": "text/x-python",
   "name": "python",
   "nbconvert_exporter": "python",
   "pygments_lexer": "ipython3",
   "version": "3.8.3"
  }
 },
 "nbformat": 4,
 "nbformat_minor": 4
}
